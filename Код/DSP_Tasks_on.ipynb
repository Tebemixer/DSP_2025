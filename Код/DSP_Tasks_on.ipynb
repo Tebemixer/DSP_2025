{
 "cells": [
  {
   "cell_type": "markdown",
   "id": "fb69348b",
   "metadata": {},
   "source": [
    "### Задача 1\n",
    "\n",
    "SVD в датасете о цифрах. (+1 буква)\n",
    "\n",
    "См. подробности в файле 1.0 SVD_on.ipynb\n",
    "\n"
   ]
  },
  {
   "cell_type": "markdown",
   "id": "26f72b2c-d835-423a-8ec6-52dbe610af18",
   "metadata": {},
   "source": [
    "### Задача 2\n",
    "\n",
    "Найти частоты синусоид в зашумлённом сигнале. (+0.5 буквы)\n",
    "\n",
    "См. подробности в файле 1.1.0 DFT_1D_on.ipynb"
   ]
  },
  {
   "cell_type": "markdown",
   "id": "a4794460-5716-422b-a774-1eb8c79fa036",
   "metadata": {},
   "source": [
    "### Задача 3\n",
    "\n",
    "Расшифровать 10 Wav-файлов, каждый из которых содержит зашумлённый сигнал с закодированным с помощью DTMF-технологии номером мобильного. (+1 буква)\n",
    "\n",
    "См. подробности в файле 1.1.0 DFT_1D_on.ipynb"
   ]
  },
  {
   "cell_type": "markdown",
   "id": "6d4986c0-3d6c-4efd-9f6e-f15855c62fc4",
   "metadata": {},
   "source": [
    "### Задача 4\n",
    "\n",
    "Построить классификатор для распознавания звуков в датасете ESC-10 на основе оконного ПФ (точность 80%). (+1 буква)\n",
    "\n",
    "См. подробности в файле 1.2 STFT_on.ipynb"
   ]
  },
  {
   "cell_type": "markdown",
   "id": "a99e7c49",
   "metadata": {},
   "source": [
    "### Задача 4*\n",
    "\n",
    "Построить классификатор для распознавания звуков в датасете ESC-50 на основе оконного ПФ (точность 50%). (+2 буквы)\n",
    "\n",
    "Датасет ESC50 :\n",
    "\n",
    "https://github.com/karolpiczak/ESC-50"
   ]
  },
  {
   "cell_type": "markdown",
   "id": "23542e0a-1a8f-44d8-a755-442f533eee22",
   "metadata": {},
   "source": [
    "### Задача 5\n",
    "\n",
    "Разработать  и применить полосно-заграждающий КИХ-фильтр для удаления шума одной частоты из аудио-сигнала. (+0.5 буквы)\n",
    "\n",
    "См. подробности в файле 1.4 FIR filters_on.ipynb"
   ]
  },
  {
   "cell_type": "markdown",
   "id": "2297cc05",
   "metadata": {},
   "source": [
    "### Задача 6\n",
    "\n",
    "Напишите код для генерации звучания ноты по заданной частоте в герцах `freq` и длительности в секундах `dur` с помощью фильтра Карплюса-Стронга. (+1 буква)\n",
    "\n",
    "См. подробности в файле  1.5.0 IIR filters_on.ipynb"
   ]
  },
  {
   "cell_type": "markdown",
   "id": "95c2cf8d-de00-42de-8c8c-809eb960c600",
   "metadata": {},
   "source": [
    "### Задача 7\n",
    "\n",
    "Сформировать свёрточную ИНС и обучить на датасете, формируемом из набора данных UCI-HAR (Human Activity Recognition) (+1 буква).\n",
    "\n",
    "См. подробности в файле 1.8.1 CWT_classification_on.ipynb"
   ]
  },
  {
   "cell_type": "code",
   "execution_count": null,
   "id": "c059de00-70c8-461f-8dc4-483c3d17df4c",
   "metadata": {},
   "outputs": [],
   "source": []
  }
 ],
 "metadata": {
  "kernelspec": {
   "display_name": "Python [conda env:base] *",
   "language": "python",
   "name": "conda-base-py"
  },
  "language_info": {
   "codemirror_mode": {
    "name": "ipython",
    "version": 3
   },
   "file_extension": ".py",
   "mimetype": "text/x-python",
   "name": "python",
   "nbconvert_exporter": "python",
   "pygments_lexer": "ipython3",
   "version": "3.12.7"
  }
 },
 "nbformat": 4,
 "nbformat_minor": 5
}
